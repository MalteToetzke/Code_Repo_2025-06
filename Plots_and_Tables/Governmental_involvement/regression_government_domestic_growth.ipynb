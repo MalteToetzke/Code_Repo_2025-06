{
 "cells": [
  {
   "cell_type": "code",
   "execution_count": null,
   "id": "initial_id",
   "metadata": {
    "collapsed": true
   },
   "outputs": [],
   "source": [
    "\"\"\" This script performs a regression analysis on the association between increased governmental centrality (additional partnerships involving governments) and overall growth in partnerships including domestic organizations.\n",
    "The periods compared are the Pre-IRA period (1.1.2020--30.06.2022) and the Post-IRA period (1.7.2022--31.12.2024).\n",
    "\"\"\""
   ]
  },
  {
   "metadata": {
    "ExecuteTime": {
     "end_time": "2025-06-12T08:32:11.982117Z",
     "start_time": "2025-06-12T08:32:03.486305Z"
    }
   },
   "cell_type": "code",
   "source": [
    "#Imports \n",
    "import pandas as pd\n",
    "import statsmodels.api as sm"
   ],
   "id": "d0cea4daf478d0bf",
   "outputs": [],
   "execution_count": 1
  },
  {
   "metadata": {
    "ExecuteTime": {
     "end_time": "2025-06-12T08:32:15.645524Z",
     "start_time": "2025-06-12T08:32:15.596588Z"
    }
   },
   "cell_type": "code",
   "source": [
    "df = pd.read_csv(\"../Data/tech_country_growth.csv\")\n",
    "\n",
    "# Filter the data: only take observations with at least 100 partnerships involving domestic organizations in the Post-IRA period\n",
    "filtered_df = df[df[\"absolute_numbers_all\"] > 100]\n",
    "\n",
    "# Prepare a list to store regression results\n",
    "regression_results = []\n",
    "\n",
    "# Iterate over each technology\n",
    "for tech in filtered_df[\"tech\"].unique():\n",
    "    subset = filtered_df[filtered_df[\"tech\"] == tech].dropna(subset=[\n",
    "        \"absolute_growth_gov\", \"absolute_growth_all\"\n",
    "    ])\n",
    "    \n",
    "    if len(subset) >= 10:\n",
    "        \n",
    "        subset = filtered_df[filtered_df[\"tech\"] == tech].dropna(subset=[\n",
    "        \"absolute_growth_gov\", \"absolute_growth_all\"\n",
    "    ])\n",
    "        # Count observations\n",
    "        absolute_observations = len(subset)\n",
    "\n",
    "        # Absolute regression\n",
    "        X_abs = sm.add_constant(subset[\"absolute_growth_gov\"])\n",
    "        y_abs = subset[\"absolute_growth_all\"]\n",
    "        model_abs = sm.OLS(y_abs, X_abs).fit()\n",
    "        \n",
    "\n",
    "        # Store regression statistics\n",
    "        regression_results.append({\n",
    "            \"tech\": tech,\n",
    "            \"n_obs_abs\": absolute_observations,        \n",
    "            \"abs_coef\": model_abs.params[\"absolute_growth_gov\"],\n",
    "            \"abs_p_value\": model_abs.pvalues[\"absolute_growth_gov\"],\n",
    "            \"abs_r_squared\": model_abs.rsquared})\n",
    "\n",
    "# Convert to DataFrame\n",
    "regression_df = pd.DataFrame(regression_results)\n",
    "print(regression_df)\n",
    "\n",
    "# Save the regression results to a CSV file\n",
    "regression_df.to_csv(\"regression_results.csv\", index=False)"
   ],
   "id": "d2f760c0d6899ed7",
   "outputs": [
    {
     "name": "stdout",
     "output_type": "stream",
     "text": [
      "                          tech  n_obs_abs   abs_coef   abs_p_value  \\\n",
      "0                      Biomass         24   3.727023  4.750295e-07   \n",
      "1                     Biofuels         26   4.152719  2.625503e-05   \n",
      "2                       Biogas         29   3.993696  9.071662e-11   \n",
      "3                         Wind         56   7.347898  2.366598e-28   \n",
      "4                Offshore_Wind         36   6.572616  3.413336e-18   \n",
      "5                        Solar         83   5.633333  1.293776e-27   \n",
      "6           Concentrated_Solar         15   2.704170  4.943570e-04   \n",
      "7                Waste_to_Heat         23   4.950708  1.323202e-10   \n",
      "8           Direct_Air_Capture         13   6.830341  1.934644e-10   \n",
      "9   Carbon_Capture_And_Storage         36   4.540585  3.335935e-13   \n",
      "10                     Biochar         19   3.512265  2.448739e-02   \n",
      "11       Carbon_Direct_Removal         20  13.962671  1.284309e-11   \n",
      "12                    Hydrogen         59   5.835069  1.485176e-30   \n",
      "13              Nuclear_Energy         19   2.954407  4.281283e-13   \n",
      "14              Nuclear_Fusion         10   3.370227  1.249415e-03   \n",
      "15                Hydro_Energy         26   3.313040  1.043433e-03   \n",
      "16                  Geothermal         27   5.567431  5.848667e-10   \n",
      "17                     Battery         58   9.195547  2.822186e-22   \n",
      "18           Electric_Vehicles         60   5.087751  3.361785e-24   \n",
      "19  Sustainable_Aviation_Fuels         32   6.884469  1.670413e-07   \n",
      "20                     E_Fuels         21   5.336345  3.170757e-08   \n",
      "21               Marine_Energy         33   7.456828  4.060773e-17   \n",
      "22                  Heat_Pumps         22   3.803807  2.634008e-04   \n",
      "23                     Railway         20   3.857714  1.447389e-04   \n",
      "24           Electric_Shipping         29   4.760392  2.508369e-07   \n",
      "25           Electric_Aviation         18   5.573489  2.206227e-06   \n",
      "26          Fuel_Cell_Aviation         22   8.526530  1.058691e-09   \n",
      "\n",
      "    abs_r_squared  \n",
      "0        0.691705  \n",
      "1        0.528016  \n",
      "2        0.794280  \n",
      "3        0.897253  \n",
      "4        0.894755  \n",
      "5        0.770516  \n",
      "6        0.619817  \n",
      "7        0.865327  \n",
      "8        0.977743  \n",
      "9        0.793793  \n",
      "10       0.263817  \n",
      "11       0.925956  \n",
      "12       0.902958  \n",
      "13       0.957483  \n",
      "14       0.747305  \n",
      "15       0.366773  \n",
      "16       0.790242  \n",
      "17       0.816492  \n",
      "18       0.832852  \n",
      "19       0.604199  \n",
      "20       0.807472  \n",
      "21       0.900966  \n",
      "22       0.494178  \n",
      "23       0.560966  \n",
      "24       0.632805  \n",
      "25       0.762929  \n",
      "26       0.850479  \n"
     ]
    }
   ],
   "execution_count": 3
  }
 ],
 "metadata": {
  "kernelspec": {
   "display_name": "Python 3",
   "language": "python",
   "name": "python3"
  },
  "language_info": {
   "codemirror_mode": {
    "name": "ipython",
    "version": 2
   },
   "file_extension": ".py",
   "mimetype": "text/x-python",
   "name": "python",
   "nbconvert_exporter": "python",
   "pygments_lexer": "ipython2",
   "version": "2.7.6"
  }
 },
 "nbformat": 4,
 "nbformat_minor": 5
}
